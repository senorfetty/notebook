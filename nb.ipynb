{
 "cells": [
  {
   "cell_type": "markdown",
   "metadata": {},
   "source": [
    "NETWORK WITH WEB BROWSERS"
   ]
  },
  {
   "cell_type": "code",
   "execution_count": 2,
   "metadata": {},
   "outputs": [
    {
     "name": "stdout",
     "output_type": "stream",
     "text": [
      "HTTP/1.1 200 OK\n",
      "Date: Thu, 10 Aug 2023 10:49:15 GMT\n",
      "Server: Apache/2.4.18 (Ubuntu)\n",
      "Last-Modified: Sat, 13 May 2017 11:22:22 GMT\n",
      "ETag: \"a7-54f6609245537\"\n",
      "Accept-Ranges: bytes\n",
      "Content-Length: 167\n",
      "Cache-Control: max-age=0, no-cache, no-store, must-revalidate\n",
      "Pragma: no-cache\n",
      "Expires: Wed, 11 Jan 1984 05:00:00 GMT\n",
      "Connection: close\n",
      "Content-Type: text/plain\n",
      "\n",
      "But soft what light through yonder window breaks\n",
      "It is the east and Juliet is the sun\n",
      "Arise fair sun and kill the envious moon\n",
      "Who is already sick and pale with grief\n"
     ]
    }
   ],
   "source": [
    "import socket\n",
    "\n",
    "x=socket.socket(socket.AF_INET,socket.SOCK_STREAM)\n",
    "x.connect(('data.pr4e.org', 80))\n",
    "url= 'GET http://data.pr4e.org/romeo.txt HTTP/1.0\\r\\n\\r\\n'.encode()\n",
    "x.send(url)\n",
    "\n",
    "while True:\n",
    "    data= x.recv(512)\n",
    "    if len(data) < 1:\n",
    "        break\n",
    "    print(data.decode(),end='')\n",
    "x.close()\n"
   ]
  },
  {
   "cell_type": "code",
   "execution_count": 2,
   "metadata": {},
   "outputs": [
    {
     "name": "stdout",
     "output_type": "stream",
     "text": [
      "\u0015\u0003\u0003\u0000\u0002\u00022\u0015\u0003\u0003\u0000\u0002\u0001\u0000\n"
     ]
    }
   ],
   "source": [
    "import socket\n",
    "\n",
    "# Create a socket object\n",
    "s = socket.socket(socket.AF_INET, socket.SOCK_STREAM)\n",
    "\n",
    "# Connect to the server (port 443 for HTTPS)\n",
    "s.connect(('senorfetty.github.io', 443))\n",
    "\n",
    "# Send an HTTP GET request\n",
    "request = \"GET /portfolio/ HTTP/1.1\\r\\nHost: senorfetty.github.io\\r\\n\\r\\n\"\n",
    "s.send(request.encode())\n",
    "\n",
    "# Receive and print the response\n",
    "response = b\"\"\n",
    "while True:\n",
    "    data = s.recv(1024)\n",
    "    if not data:\n",
    "        break\n",
    "    response += data\n",
    "\n",
    "# Close the socket\n",
    "s.close()\n",
    "\n",
    "# Convert response bytes to a string and print\n",
    "response_text = response.decode(errors='ignore')  # Ignore decoding errors\n",
    "print(response_text)\n"
   ]
  },
  {
   "cell_type": "code",
   "execution_count": 3,
   "metadata": {},
   "outputs": [
    {
     "name": "stdout",
     "output_type": "stream",
     "text": [
      "HTTP/1.1 400 Bad Request\n",
      "Server: awselb/2.0\n",
      "Date: Thu, 10 Aug 2023 11:20:58 GMT\n",
      "Content-Type: text/html\n",
      "Content-Length: 220\n",
      "Connection: close\n",
      "\n",
      "<html>\n",
      "<head><title>400 The plain HTTP request was sent to HTTPS port</title></head>\n",
      "<body>\n",
      "<center><h1>400 Bad Request</h1></center>\n",
      "<center>The plain HTTP request was sent to HTTPS port</center>\n",
      "</body>\n",
      "</html>\n",
      "\n"
     ]
    }
   ],
   "source": [
    "import socket\n",
    "s = socket.socket(socket.AF_INET, socket.SOCK_STREAM)\n",
    "s.connect(('w3schools.com', 443))\n",
    "request = \"GET /html/default.asp/ HTTP/1.1\\r\\nHost: w3schools.com\\r\\n\\r\\n\"\n",
    "\n",
    "s.send(request.encode())\n",
    "\n",
    "# Receive and print the response\n",
    "response = b\"\"\n",
    "while True:\n",
    "    data = s.recv(512)\n",
    "    if not data:\n",
    "        break\n",
    "    response += data\n",
    "\n",
    "# Close the socket\n",
    "s.close()\n",
    "\n",
    "# Convert response bytes to a string and print\n",
    "response_text = response.decode(errors='ignore')  # Ignore decoding errors\n",
    "print(response_text)\n"
   ]
  },
  {
   "cell_type": "markdown",
   "metadata": {},
   "source": [
    "URLLIB B"
   ]
  },
  {
   "cell_type": "code",
   "execution_count": 2,
   "metadata": {},
   "outputs": [
    {
     "name": "stdout",
     "output_type": "stream",
     "text": [
      "But soft what light through yonder window breaks\n",
      "It is the east and Juliet is the sun\n",
      "Arise fair sun and kill the envious moon\n",
      "Who is already sick and pale with grief\n"
     ]
    }
   ],
   "source": [
    "import urllib.request, urllib.parse, urllib.error\n",
    "\n",
    "x= urllib.request.urlopen('http://data.pr4e.org/romeo.txt')\n",
    "\n",
    "for m in x:\n",
    "    print(m.decode().strip())"
   ]
  },
  {
   "cell_type": "code",
   "execution_count": 12,
   "metadata": {},
   "outputs": [
    {
     "name": "stdout",
     "output_type": "stream",
     "text": [
      "33\n"
     ]
    }
   ],
   "source": [
    "x= urllib.request.urlopen('http://data.pr4e.org/romeo.txt')\n",
    "counts=0\n",
    "for m in x:\n",
    "    l=m.decode().split()\n",
    "    for z in l:\n",
    "        counts+=1\n",
    "print(counts)"
   ]
  },
  {
   "cell_type": "code",
   "execution_count": 13,
   "metadata": {},
   "outputs": [
    {
     "name": "stdout",
     "output_type": "stream",
     "text": [
      "light\n",
      "window\n",
      "is\n",
      "Juliet\n",
      "is\n",
      "Arise\n",
      "fair\n",
      "kill\n",
      "envious\n",
      "is\n",
      "sick\n",
      "with\n",
      "grief\n"
     ]
    }
   ],
   "source": [
    "x= urllib.request.urlopen('http://data.pr4e.org/romeo.txt')\n",
    "counts=0\n",
    "for m in x:\n",
    "    l=m.decode().split()\n",
    "    for z in l:\n",
    "        if 'i' in z:\n",
    "            print(z)"
   ]
  },
  {
   "cell_type": "code",
   "execution_count": 15,
   "metadata": {},
   "outputs": [
    {
     "name": "stdout",
     "output_type": "stream",
     "text": [
      "But soft what light through yonder window breaks\n",
      "It is the east and Juliet is the sun\n",
      "Arise fair sun and kill the envious moon\n",
      "Who is already sick and pale with grief\n"
     ]
    }
   ],
   "source": [
    "x= urllib.request.urlopen('http://data.pr4e.org/romeo.txt')\n",
    "\n",
    "for m in x:\n",
    "    l=m.decode().strip()\n",
    "    print(l)"
   ]
  },
  {
   "cell_type": "markdown",
   "metadata": {},
   "source": [
    "WEB SCRAPPING"
   ]
  },
  {
   "cell_type": "code",
   "execution_count": 22,
   "metadata": {},
   "outputs": [
    {
     "name": "stdout",
     "output_type": "stream",
     "text": [
      "#about\n",
      "#home\n",
      "#about\n",
      "#cv\n",
      "#projects\n",
      "#skills\n",
      "#contact\n",
      "static/pdf/cv2.pdf\n",
      "#contact\n",
      "https://twitter.com/fetty_senor\n",
      "https://github.com/senorfetty\n",
      "https://www.instagram.com/fetty_senor/\n",
      "https://github.com/senorfetty/docpat\n",
      "https://github.com/senorfetty/wemzee\n",
      "https://github.com/senorfetty/weather\n",
      "mailto:billykimbett@gmail.com\n",
      "#\n",
      "mailto:billykimbett@gmail.com\n",
      "tel:+254792593059\n",
      "https://twitter.com/fetty_senor\n",
      "https://github.com/senorfetty\n",
      "https://www.instagram.com/fetty_senor/\n",
      "#\n",
      "#\n"
     ]
    }
   ],
   "source": [
    "from bs4 import BeautifulSoup\n",
    "\n",
    "url= 'https://senorfetty.github.io/portfolio'\n",
    "html= urllib.request.urlopen(url).read()\n",
    "s= BeautifulSoup(html, 'html.parser')\n",
    "t= s('a')\n",
    "\n",
    "for c in t:\n",
    "    print(c.get('href', None))\n"
   ]
  },
  {
   "cell_type": "markdown",
   "metadata": {},
   "source": [
    "XML SCHEMA"
   ]
  },
  {
   "cell_type": "code",
   "execution_count": 39,
   "metadata": {},
   "outputs": [
    {
     "name": "stdout",
     "output_type": "stream",
     "text": [
      "Name:  Fetty\n",
      "Phone:  +1 734 303 4456\n",
      "\n",
      "e:  None\n"
     ]
    }
   ],
   "source": [
    "import xml.etree.ElementTree as ET\n",
    "\n",
    "data= '''<person>\n",
    "<name>Fetty</name>\n",
    "<phone type=\"intl\">+1 734 303 4456\n",
    "</phone>\n",
    "<email hide=\"yes\"/>\n",
    "</person>'''\n",
    "\n",
    "tree=ET.fromstring(data)\n",
    "print('Name: ',tree.find('name').text)\n",
    "print('Phone: ',tree.find('phone').text)\n",
    "print('e: ',tree.find('email').text)"
   ]
  },
  {
   "cell_type": "code",
   "execution_count": 53,
   "metadata": {},
   "outputs": [
    {
     "name": "stdout",
     "output_type": "stream",
     "text": [
      "2\n",
      "Name:  Fetty\n",
      "x= 1\n",
      "Name:  Derrick\n",
      "x= 2\n"
     ]
    }
   ],
   "source": [
    "import xml.etree.ElementTree as ET\n",
    "\n",
    "data= '''<people>\n",
    "<adults>\n",
    "<adult x= \"1\">\n",
    "<name>Fetty</name>\n",
    "<phone type=\"intl\">+1 734 303 4456</phone>\n",
    "<email hide=\"yes\"/>\n",
    "</adult>\n",
    "<adult x= \"2\">\n",
    "<name>Derrick</name>\n",
    "<phone type=\"intl\">+2 734 303 4456</phone>\n",
    "<email>billy@gmail.com</email>\n",
    "</adult>\n",
    "</adults>\n",
    "</people>'''\n",
    "\n",
    "tree=ET.fromstring(data)\n",
    "x=tree.findall('adults/adult')\n",
    "print(len(x))\n",
    "\n",
    "for l in x:\n",
    "    print('Name: ',l.find('name').text)\n",
    "    print('x=',l.get('x'))"
   ]
  },
  {
   "cell_type": "code",
   "execution_count": 68,
   "metadata": {},
   "outputs": [
    {
     "name": "stdout",
     "output_type": "stream",
     "text": [
      "2\n",
      "{'name': 'Frank', 'phone': {'type': 'intl', 'number': '+4 535 4111'}, 'email': 'd@gmail.com'}\n",
      "Fetty\n",
      "Frank\n"
     ]
    }
   ],
   "source": [
    "import json\n",
    "\n",
    "data= '''[\n",
    "    {\"name\" : \"Fetty\",\n",
    "    \"phone\" : {\n",
    "    \"type\" : \"intl\",\n",
    "    \"number\" : \"+1 734 303 4456\"\n",
    "    },\n",
    "    \"email\" : {\n",
    "    \"hide\": \"yes\"\n",
    "    }\n",
    "    },\n",
    "    {\"name\" : \"Frank\",\n",
    "    \"phone\" : {\n",
    "    \"type\" : \"intl\",\n",
    "    \"number\" : \"+4 535 4111\"\n",
    "    },\n",
    "    \"email\" : \"d@gmail.com\"\n",
    "    }\n",
    "    ]'''\n",
    "x=  json.loads(data)\n",
    "print(len(x))\n",
    "print(x[1])\n",
    "for i in x:\n",
    "    print(i[\"name\"])\n",
    "\n",
    "z= {'name': 'Fetty', 'phone': {'type': 'intl', 'number': '+1 734 303 4456'}, 'email': {'hide': 'yes'}}\n",
    "r=json.dumps(z)\n",
    "# print(r)"
   ]
  },
  {
   "cell_type": "markdown",
   "metadata": {},
   "source": [
    "GEOENCODING "
   ]
  },
  {
   "cell_type": "code",
   "execution_count": 74,
   "metadata": {},
   "outputs": [
    {
     "name": "stdout",
     "output_type": "stream",
     "text": [
      "Retrieving:  http://maps.googleapis.com/maps/api/geocode/json?address=nairobi\n",
      "237\n",
      "=== FAILED ===\n",
      "{\n",
      "   \"error_message\" : \"You must use an API key to authenticate each request to Google Maps Platform APIs. For additional information, please refer to http://g.co/dev/maps-no-account\",\n",
      "   \"results\" : [],\n",
      "   \"status\" : \"REQUEST_DENIED\"\n",
      "}\n",
      "\n"
     ]
    }
   ],
   "source": [
    "import urllib.parse, urllib.request\n",
    "import json\n",
    "\n",
    "\n",
    "servurl= 'http://maps.googleapis.com/maps/api/geocode/json?'\n",
    "\n",
    "while True:\n",
    "    address= input('Location: ')\n",
    "    if len(address) < 1:\n",
    "        break\n",
    "    url= servurl + urllib.parse.urlencode({'address' : address})\n",
    "    print('Retrieving: ', url)\n",
    "    uh= urllib.request.urlopen(url)\n",
    "    data= uh.read().decode()\n",
    "    print(len(data))\n",
    "\n",
    "    try:\n",
    "        js= json.loads(data)\n",
    "\n",
    "    except:\n",
    "        js= None\n",
    "\n",
    "    if not js or 'status' not in js or js['status'] != 'OK':\n",
    "        print('=== FAILED ===')\n",
    "        print(data)\n",
    "        continue\n",
    "\n",
    "    lat = js[\"results\"][0][\"geometry\"][\"location\"][\"lat\"]\n",
    "    lng = js[\"results\"][0][\"geometry\"][\"location\"][\"lng\"]\n",
    "    print(lat, lng)\n",
    "\n",
    "    loc= js[\"results\"][0][\"formatted_address\"]\n",
    "    print(loc)\n",
    "\n",
    "    "
   ]
  },
  {
   "cell_type": "code",
   "execution_count": null,
   "metadata": {},
   "outputs": [],
   "source": [
    "import urllib.parse, urllib.request, urllib.error\n",
    "import json\n",
    "import twurl"
   ]
  }
 ],
 "metadata": {
  "kernelspec": {
   "display_name": "Python 3",
   "language": "python",
   "name": "python3"
  },
  "language_info": {
   "codemirror_mode": {
    "name": "ipython",
    "version": 3
   },
   "file_extension": ".py",
   "mimetype": "text/x-python",
   "name": "python",
   "nbconvert_exporter": "python",
   "pygments_lexer": "ipython3",
   "version": "3.10.2"
  },
  "orig_nbformat": 4
 },
 "nbformat": 4,
 "nbformat_minor": 2
}
