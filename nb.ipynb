{
 "cells": [
  {
   "cell_type": "markdown",
   "metadata": {},
   "source": [
    "NETWORK WITH WEB BROWSERS"
   ]
  },
  {
   "cell_type": "code",
   "execution_count": 2,
   "metadata": {},
   "outputs": [
    {
     "name": "stdout",
     "output_type": "stream",
     "text": [
      "HTTP/1.1 200 OK\n",
      "Date: Thu, 10 Aug 2023 10:49:15 GMT\n",
      "Server: Apache/2.4.18 (Ubuntu)\n",
      "Last-Modified: Sat, 13 May 2017 11:22:22 GMT\n",
      "ETag: \"a7-54f6609245537\"\n",
      "Accept-Ranges: bytes\n",
      "Content-Length: 167\n",
      "Cache-Control: max-age=0, no-cache, no-store, must-revalidate\n",
      "Pragma: no-cache\n",
      "Expires: Wed, 11 Jan 1984 05:00:00 GMT\n",
      "Connection: close\n",
      "Content-Type: text/plain\n",
      "\n",
      "But soft what light through yonder window breaks\n",
      "It is the east and Juliet is the sun\n",
      "Arise fair sun and kill the envious moon\n",
      "Who is already sick and pale with grief\n"
     ]
    }
   ],
   "source": [
    "import socket\n",
    "\n",
    "x=socket.socket(socket.AF_INET,socket.SOCK_STREAM)\n",
    "x.connect(('data.pr4e.org', 80))\n",
    "url= 'GET http://data.pr4e.org/romeo.txt HTTP/1.0\\r\\n\\r\\n'.encode()\n",
    "x.send(url)\n",
    "\n",
    "while True:\n",
    "    data= x.recv(512)\n",
    "    if len(data) < 1:\n",
    "        break\n",
    "    print(data.decode(),end='')\n",
    "x.close()\n"
   ]
  },
  {
   "cell_type": "code",
   "execution_count": 2,
   "metadata": {},
   "outputs": [
    {
     "name": "stdout",
     "output_type": "stream",
     "text": [
      "\u0015\u0003\u0003\u0000\u0002\u00022\u0015\u0003\u0003\u0000\u0002\u0001\u0000\n"
     ]
    }
   ],
   "source": [
    "import socket\n",
    "\n",
    "# Create a socket object\n",
    "s = socket.socket(socket.AF_INET, socket.SOCK_STREAM)\n",
    "\n",
    "# Connect to the server (port 443 for HTTPS)\n",
    "s.connect(('senorfetty.github.io', 443))\n",
    "\n",
    "# Send an HTTP GET request\n",
    "request = \"GET /portfolio/ HTTP/1.1\\r\\nHost: senorfetty.github.io\\r\\n\\r\\n\"\n",
    "s.send(request.encode())\n",
    "\n",
    "# Receive and print the response\n",
    "response = b\"\"\n",
    "while True:\n",
    "    data = s.recv(1024)\n",
    "    if not data:\n",
    "        break\n",
    "    response += data\n",
    "\n",
    "# Close the socket\n",
    "s.close()\n",
    "\n",
    "# Convert response bytes to a string and print\n",
    "response_text = response.decode(errors='ignore')  # Ignore decoding errors\n",
    "print(response_text)\n"
   ]
  },
  {
   "cell_type": "code",
   "execution_count": 3,
   "metadata": {},
   "outputs": [
    {
     "name": "stdout",
     "output_type": "stream",
     "text": [
      "HTTP/1.1 400 Bad Request\n",
      "Server: awselb/2.0\n",
      "Date: Thu, 10 Aug 2023 11:20:58 GMT\n",
      "Content-Type: text/html\n",
      "Content-Length: 220\n",
      "Connection: close\n",
      "\n",
      "<html>\n",
      "<head><title>400 The plain HTTP request was sent to HTTPS port</title></head>\n",
      "<body>\n",
      "<center><h1>400 Bad Request</h1></center>\n",
      "<center>The plain HTTP request was sent to HTTPS port</center>\n",
      "</body>\n",
      "</html>\n",
      "\n"
     ]
    }
   ],
   "source": [
    "import socket\n",
    "import ssl\n",
    "s = socket.socket(socket.AF_INET, socket.SOCK_STREAM)\n",
    "s.connect(('w3schools.com', 443))\n",
    "request = \"GET /html/default.asp/ HTTP/1.1\\r\\nHost: w3schools.com\\r\\n\\r\\n\"\n",
    "\n",
    "s.send(request.encode())\n",
    "\n",
    "# Receive and print the response\n",
    "response = b\"\"\n",
    "while True:\n",
    "    data = s.recv(512)\n",
    "    if not data:\n",
    "        break\n",
    "    response += data\n",
    "\n",
    "# Close the socket\n",
    "s.close()\n",
    "\n",
    "# Convert response bytes to a string and print\n",
    "response_text = response.decode(errors='ignore')  # Ignore decoding errors\n",
    "print(response_text)\n"
   ]
  }
 ],
 "metadata": {
  "kernelspec": {
   "display_name": "Python 3",
   "language": "python",
   "name": "python3"
  },
  "language_info": {
   "codemirror_mode": {
    "name": "ipython",
    "version": 3
   },
   "file_extension": ".py",
   "mimetype": "text/x-python",
   "name": "python",
   "nbconvert_exporter": "python",
   "pygments_lexer": "ipython3",
   "version": "3.10.2"
  },
  "orig_nbformat": 4
 },
 "nbformat": 4,
 "nbformat_minor": 2
}
